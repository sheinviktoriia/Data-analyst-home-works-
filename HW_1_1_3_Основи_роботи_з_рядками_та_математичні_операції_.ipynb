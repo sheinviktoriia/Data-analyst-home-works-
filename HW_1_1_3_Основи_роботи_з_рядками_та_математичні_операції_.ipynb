{
  "nbformat": 4,
  "nbformat_minor": 0,
  "metadata": {
    "colab": {
      "provenance": [],
      "include_colab_link": true
    },
    "kernelspec": {
      "name": "python3",
      "display_name": "Python 3"
    },
    "language_info": {
      "name": "python"
    }
  },
  "cells": [
    {
      "cell_type": "markdown",
      "metadata": {
        "id": "view-in-github",
        "colab_type": "text"
      },
      "source": [
        "<a href=\"https://colab.research.google.com/github/sheinviktoriia/Data-analyst-home-works-/blob/main/HW_1_1_3_%D0%9E%D1%81%D0%BD%D0%BE%D0%B2%D0%B8_%D1%80%D0%BE%D0%B1%D0%BE%D1%82%D0%B8_%D0%B7_%D1%80%D1%8F%D0%B4%D0%BA%D0%B0%D0%BC%D0%B8_%D1%82%D0%B0_%D0%BC%D0%B0%D1%82%D0%B5%D0%BC%D0%B0%D1%82%D0%B8%D1%87%D0%BD%D1%96_%D0%BE%D0%BF%D0%B5%D1%80%D0%B0%D1%86%D1%96%D1%97_.ipynb\" target=\"_parent\"><img src=\"https://colab.research.google.com/assets/colab-badge.svg\" alt=\"Open In Colab\"/></a>"
      ]
    },
    {
      "cell_type": "markdown",
      "source": [
        "# Домашнє завдання до теми \"Основи роботи з рядками та математичні операції\""
      ],
      "metadata": {
        "id": "9ngpqNFm8w1a"
      }
    },
    {
      "cell_type": "markdown",
      "source": [
        "1. Створіть змінні `a`, `b`, `c` та `d`, задайте їм значення відповідно 101, 210, 111, 402, та обчисліть з допомогою Python наступний вираз:  $$ \\frac{(a+b) * c}{d} $$\n",
        "\n",
        "**Важливо**: тут ми маємо обчислити значення саме з використанням змінних, а не просто чисел, як би ми робили у калькуряторі. Змінні потрібні аби за бажання ми могли змінити їх значення та не переписувати код обчислення виразу, бо він буде працювати для різних значень змінних."
      ],
      "metadata": {
        "id": "DEkQSeSyTum-"
      }
    },
    {
      "cell_type": "code",
      "source": [
        "a = 101\n",
        "b = 210\n",
        "c = 111\n",
        "d = 402"
      ],
      "metadata": {
        "id": "u1ICQq5L3eKH"
      },
      "execution_count": 1,
      "outputs": []
    },
    {
      "cell_type": "code",
      "source": [
        "print((a + b) * c / d)"
      ],
      "metadata": {
        "colab": {
          "base_uri": "https://localhost:8080/"
        },
        "id": "CbYzI6cGK994",
        "outputId": "50dc0c40-3500-457b-e291-009da454b366"
      },
      "execution_count": 2,
      "outputs": [
        {
          "output_type": "stream",
          "name": "stdout",
          "text": [
            "85.8731343283582\n"
          ]
        }
      ]
    },
    {
      "cell_type": "markdown",
      "source": [
        "Очікувана відповідь: 85.8731343283582"
      ],
      "metadata": {
        "id": "FnBVPt7G3bcR"
      }
    },
    {
      "cell_type": "markdown",
      "source": [
        "2. Якою буде остача від ділення числа 11283 на 89? Обчисліть з допомогою Python."
      ],
      "metadata": {
        "id": "HI3eEYZRT4Cn"
      }
    },
    {
      "cell_type": "code",
      "execution_count": 3,
      "metadata": {
        "id": "ejZc3ng_TpgY",
        "colab": {
          "base_uri": "https://localhost:8080/"
        },
        "outputId": "34657e09-8a69-4931-acc2-d7ff4f271461"
      },
      "outputs": [
        {
          "output_type": "execute_result",
          "data": {
            "text/plain": [
              "69"
            ]
          },
          "metadata": {},
          "execution_count": 3
        }
      ],
      "source": [
        "number_one = 11283\n",
        "number_two = 89\n",
        "number_one % number_two"
      ]
    },
    {
      "cell_type": "markdown",
      "source": [
        "3. Скільки цілих разів поміститься число 89 в 11283? (Або що те саме: який буде результат цілочисельного ділення 11283 на 89?)"
      ],
      "metadata": {
        "id": "RO02CqdqT9oG"
      }
    },
    {
      "cell_type": "code",
      "source": [
        "number_one // number_two"
      ],
      "metadata": {
        "id": "KEUb9lO5T_PI",
        "colab": {
          "base_uri": "https://localhost:8080/"
        },
        "outputId": "c15f553f-5159-4e7e-a7e9-a73ea19fe003"
      },
      "execution_count": 4,
      "outputs": [
        {
          "output_type": "execute_result",
          "data": {
            "text/plain": [
              "126"
            ]
          },
          "metadata": {},
          "execution_count": 4
        }
      ]
    },
    {
      "cell_type": "markdown",
      "source": [
        "4. Запишіть у змінну `name` ваше імʼя."
      ],
      "metadata": {
        "id": "5fnIPumiT_rt"
      }
    },
    {
      "cell_type": "code",
      "source": [
        "name = 'Viktoriia'"
      ],
      "metadata": {
        "id": "xP7Mbq45UFlV"
      },
      "execution_count": 5,
      "outputs": []
    },
    {
      "cell_type": "markdown",
      "source": [
        "5. Запишіть у змінну `surname` ваше прізвище."
      ],
      "metadata": {
        "id": "fR9TqY79UNDL"
      }
    },
    {
      "cell_type": "code",
      "source": [
        "surname = 'Shein'"
      ],
      "metadata": {
        "id": "0qHjyMyvUOM1"
      },
      "execution_count": 6,
      "outputs": []
    },
    {
      "cell_type": "markdown",
      "source": [
        "6. Сконкатенуйте імʼя та прізвище в одну фразу через пробіл. Запишіть результат у нову змінну `name_surname` та виведіть результат на екран.  "
      ],
      "metadata": {
        "id": "zqKncQLwUOxh"
      }
    },
    {
      "cell_type": "code",
      "source": [
        "name + ' ' + surname"
      ],
      "metadata": {
        "id": "8E-blvN-UTPg",
        "colab": {
          "base_uri": "https://localhost:8080/",
          "height": 35
        },
        "outputId": "bcc91b09-38dd-4624-dd59-de49535ffdd0"
      },
      "execution_count": 7,
      "outputs": [
        {
          "output_type": "execute_result",
          "data": {
            "text/plain": [
              "'Viktoriia Shein'"
            ],
            "application/vnd.google.colaboratory.intrinsic+json": {
              "type": "string"
            }
          },
          "metadata": {},
          "execution_count": 7
        }
      ]
    },
    {
      "cell_type": "code",
      "source": [
        "name_surname = name + ' ' + surname\n",
        "print(name_surname)"
      ],
      "metadata": {
        "colab": {
          "base_uri": "https://localhost:8080/"
        },
        "id": "BjGZfWmXMWN0",
        "outputId": "9b1ddd89-ceba-458a-c389-5d4d8285562f"
      },
      "execution_count": 8,
      "outputs": [
        {
          "output_type": "stream",
          "name": "stdout",
          "text": [
            "Viktoriia Shein\n"
          ]
        }
      ]
    },
    {
      "cell_type": "markdown",
      "source": [
        "Очікувана відповідь (тільки з вашими даними): 'Hanna Pylieva'"
      ],
      "metadata": {
        "id": "_Unl7EXlUgYn"
      }
    },
    {
      "cell_type": "markdown",
      "source": [
        "7. Зробіть усі літери змінної `name_surname` заглавними використовуючи метод рядків в Python:"
      ],
      "metadata": {
        "id": "z-3FI0IrUT0U"
      }
    },
    {
      "cell_type": "code",
      "source": [
        "name_surname.upper()"
      ],
      "metadata": {
        "colab": {
          "base_uri": "https://localhost:8080/",
          "height": 35
        },
        "id": "2QOTrUjyMoII",
        "outputId": "7797009b-d3f0-4d1c-817a-209c1d487d63"
      },
      "execution_count": 9,
      "outputs": [
        {
          "output_type": "execute_result",
          "data": {
            "text/plain": [
              "'VIKTORIIA SHEIN'"
            ],
            "application/vnd.google.colaboratory.intrinsic+json": {
              "type": "string"
            }
          },
          "metadata": {},
          "execution_count": 9
        }
      ]
    },
    {
      "cell_type": "markdown",
      "source": [
        "Очікувана відповідь (тільки з вашими даними): 'HANNA PYLIEVA'"
      ],
      "metadata": {
        "id": "6PDcqfmdUcLo"
      }
    },
    {
      "cell_type": "markdown",
      "source": [
        "8. Виведіть третю літеру вашого `name_surname`. Тут уважно, треба саме третя літера. Згадайте, з якого значення починається індексування значень в Python."
      ],
      "metadata": {
        "id": "qNl8KxeXUtnL"
      }
    },
    {
      "cell_type": "code",
      "source": [
        "char = name_surname"
      ],
      "metadata": {
        "id": "Tp7stqAhUvJz"
      },
      "execution_count": 10,
      "outputs": []
    },
    {
      "cell_type": "code",
      "source": [
        "char[2]"
      ],
      "metadata": {
        "colab": {
          "base_uri": "https://localhost:8080/",
          "height": 35
        },
        "id": "9JCEdVrZNQM_",
        "outputId": "c578989f-e88f-4786-8369-808f5626f7e5"
      },
      "execution_count": 11,
      "outputs": [
        {
          "output_type": "execute_result",
          "data": {
            "text/plain": [
              "'k'"
            ],
            "application/vnd.google.colaboratory.intrinsic+json": {
              "type": "string"
            }
          },
          "metadata": {},
          "execution_count": 11
        }
      ]
    },
    {
      "cell_type": "markdown",
      "source": [
        "Очікувана відповідь (тільки з вашими даними): 'n'"
      ],
      "metadata": {
        "id": "GYWHqb3UUvqk"
      }
    },
    {
      "cell_type": "markdown",
      "metadata": {
        "pycharm": {
          "name": "#%% md\n"
        },
        "id": "1f3cc1a7"
      },
      "source": [
        "9. Виведіть першу та останню літеру вашого прізвища."
      ]
    },
    {
      "cell_type": "code",
      "source": [
        "char[10], char[14]"
      ],
      "metadata": {
        "id": "s1ZgN3xuUyB8",
        "colab": {
          "base_uri": "https://localhost:8080/"
        },
        "outputId": "432afcb8-0509-4152-f3e5-9e45abfb7ab3"
      },
      "execution_count": 15,
      "outputs": [
        {
          "output_type": "execute_result",
          "data": {
            "text/plain": [
              "('S', 'n')"
            ]
          },
          "metadata": {},
          "execution_count": 15
        }
      ]
    },
    {
      "cell_type": "code",
      "source": [
        "surname[0], surname[4]"
      ],
      "metadata": {
        "colab": {
          "base_uri": "https://localhost:8080/"
        },
        "id": "GWKwxnMFONQF",
        "outputId": "149a303e-aff2-4710-c32a-51cbeb2ca39e"
      },
      "execution_count": 16,
      "outputs": [
        {
          "output_type": "execute_result",
          "data": {
            "text/plain": [
              "('S', 'n')"
            ]
          },
          "metadata": {},
          "execution_count": 16
        }
      ]
    },
    {
      "cell_type": "markdown",
      "source": [
        "Очікувана відповідь (тільки з вашими даними): ('P', 'a')"
      ],
      "metadata": {
        "id": "KjlFjjhHVAt2"
      }
    },
    {
      "cell_type": "markdown",
      "source": [
        "10. Виведіть довжину вашого прізвища."
      ],
      "metadata": {
        "id": "UYLoho3DVMt2"
      }
    },
    {
      "cell_type": "code",
      "source": [
        "len(surname)"
      ],
      "metadata": {
        "id": "0TPJBh0LVA8q",
        "colab": {
          "base_uri": "https://localhost:8080/"
        },
        "outputId": "195f0b34-7e4f-4cda-a967-3f08510b4776"
      },
      "execution_count": 17,
      "outputs": [
        {
          "output_type": "execute_result",
          "data": {
            "text/plain": [
              "5"
            ]
          },
          "metadata": {},
          "execution_count": 17
        }
      ]
    },
    {
      "cell_type": "markdown",
      "source": [
        "Очікувана відповідь (тільки з вашими даними): 7\n"
      ],
      "metadata": {
        "id": "9FaxqvVgVRYW"
      }
    },
    {
      "cell_type": "markdown",
      "source": [
        "11. Виведіть кількість літер `a` у столиці Мадагаскару `Antananarivo`. Важливо врахувати всі літери, як великі, так і маленькі."
      ],
      "metadata": {
        "id": "JN2wxSlGVVAj"
      }
    },
    {
      "cell_type": "code",
      "source": [
        "M = 'Antananarivo'\n",
        "M.count('A') + M.count('a')"
      ],
      "metadata": {
        "id": "LCeHHz9bVUgL",
        "colab": {
          "base_uri": "https://localhost:8080/"
        },
        "outputId": "1c9ad8b8-7b93-4cbc-943e-6e2f1f1cd071"
      },
      "execution_count": 44,
      "outputs": [
        {
          "output_type": "execute_result",
          "data": {
            "text/plain": [
              "4"
            ]
          },
          "metadata": {},
          "execution_count": 44
        }
      ]
    },
    {
      "cell_type": "markdown",
      "source": [
        "Це завдання зайняло 30 хв і я не впевнена, що це найзручніший варіант визначення."
      ],
      "metadata": {
        "id": "XvpgqcFbVbxA"
      }
    },
    {
      "cell_type": "markdown",
      "source": [
        "Очікувана відповідь: 4"
      ],
      "metadata": {
        "id": "Ux4SQiuSVo92"
      }
    },
    {
      "cell_type": "markdown",
      "source": [
        "12. Створіть рядок `my_string` зі значенням: \"The quick brown fox jumps over the lazy dog!!!\".   \n",
        "Перевірте, чи починається рядок `my_string` з \"The\" і чи закінчується він \"dog!\". Виведіть результати на екран."
      ],
      "metadata": {
        "id": "mwEs0xnmVtes"
      }
    },
    {
      "cell_type": "code",
      "source": [
        "my_string = 'The quick brown fox jumps over the lazy dog!!!'\n",
        "my_string.startswith('The')\n",
        "my_string.endswith('dog!')"
      ],
      "metadata": {
        "id": "VlXDNpXcVs59",
        "colab": {
          "base_uri": "https://localhost:8080/"
        },
        "outputId": "65a5c958-e603-4375-902b-cb3c4ed52262"
      },
      "execution_count": 46,
      "outputs": [
        {
          "output_type": "execute_result",
          "data": {
            "text/plain": [
              "False"
            ]
          },
          "metadata": {},
          "execution_count": 46
        }
      ]
    },
    {
      "cell_type": "code",
      "source": [
        "my_string.startswith('The')"
      ],
      "metadata": {
        "colab": {
          "base_uri": "https://localhost:8080/"
        },
        "id": "gNXeCBapWP_f",
        "outputId": "5d93f9a1-a16c-4030-8f51-5760a096cd85"
      },
      "execution_count": 47,
      "outputs": [
        {
          "output_type": "execute_result",
          "data": {
            "text/plain": [
              "True"
            ]
          },
          "metadata": {},
          "execution_count": 47
        }
      ]
    },
    {
      "cell_type": "code",
      "source": [
        "my_string.endswith('dog!')"
      ],
      "metadata": {
        "colab": {
          "base_uri": "https://localhost:8080/"
        },
        "id": "xtiH3POcWSqh",
        "outputId": "51adcc12-3ee1-4b18-c579-27d6819e6f5f"
      },
      "execution_count": 48,
      "outputs": [
        {
          "output_type": "execute_result",
          "data": {
            "text/plain": [
              "False"
            ]
          },
          "metadata": {},
          "execution_count": 48
        }
      ]
    },
    {
      "cell_type": "markdown",
      "source": [
        "13. Розділіть рядок `my_string` на список окремих слів, а потім з'єднайте всі слова через нижнє підкреслювання. Виведіть результат на екран."
      ],
      "metadata": {
        "id": "Yc-UwtqvV_h0"
      }
    },
    {
      "cell_type": "code",
      "source": [
        "print(my_string.split())"
      ],
      "metadata": {
        "id": "m5I48Ii-WDSK",
        "colab": {
          "base_uri": "https://localhost:8080/"
        },
        "outputId": "1152d0aa-59eb-475f-da5d-fe89d5fd680d"
      },
      "execution_count": 50,
      "outputs": [
        {
          "output_type": "stream",
          "name": "stdout",
          "text": [
            "['The', 'quick', 'brown', 'fox', 'jumps', 'over', 'the', 'lazy', 'dog!!!']\n"
          ]
        }
      ]
    },
    {
      "cell_type": "code",
      "source": [
        "print('_'.join(my_string))"
      ],
      "metadata": {
        "colab": {
          "base_uri": "https://localhost:8080/"
        },
        "id": "rmtWZqXCW0Bb",
        "outputId": "b110e605-5401-45f1-d57d-5618e0fa157e"
      },
      "execution_count": 52,
      "outputs": [
        {
          "output_type": "stream",
          "name": "stdout",
          "text": [
            "T_h_e_ _q_u_i_c_k_ _b_r_o_w_n_ _f_o_x_ _j_u_m_p_s_ _o_v_e_r_ _t_h_e_ _l_a_z_y_ _d_o_g_!_!_!\n"
          ]
        }
      ]
    },
    {
      "cell_type": "code",
      "source": [
        "print('_'.join(['The', 'quick', 'brown', 'fox', 'jumps', 'over', 'the', 'lazy', 'dog!!!']))"
      ],
      "metadata": {
        "colab": {
          "base_uri": "https://localhost:8080/"
        },
        "id": "GJEY6x5TXgip",
        "outputId": "b2eb1ee6-622c-45c2-b60e-4949a0c0d57c"
      },
      "execution_count": 53,
      "outputs": [
        {
          "output_type": "stream",
          "name": "stdout",
          "text": [
            "The_quick_brown_fox_jumps_over_the_lazy_dog!!!\n"
          ]
        }
      ]
    },
    {
      "cell_type": "markdown",
      "source": [
        "Очікуваний результат: `The_quick_brown_fox_jumps_over_the_lazy_dog!!!`"
      ],
      "metadata": {
        "id": "UqvD1_jIXRhx"
      }
    }
  ]
}
