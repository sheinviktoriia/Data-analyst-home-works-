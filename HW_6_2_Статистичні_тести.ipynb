{
  "cells": [
    {
      "cell_type": "markdown",
      "metadata": {
        "id": "view-in-github",
        "colab_type": "text"
      },
      "source": [
        "<a href=\"https://colab.research.google.com/github/sheinviktoriia/Data-analyst-home-works-/blob/main/HW_6_2_%D0%A1%D1%82%D0%B0%D1%82%D0%B8%D1%81%D1%82%D0%B8%D1%87%D0%BD%D1%96_%D1%82%D0%B5%D1%81%D1%82%D0%B8.ipynb\" target=\"_parent\"><img src=\"https://colab.research.google.com/assets/colab-badge.svg\" alt=\"Open In Colab\"/></a>"
      ]
    },
    {
      "cell_type": "markdown",
      "id": "e152f6d6",
      "metadata": {
        "ExecuteTime": {
          "end_time": "2022-12-10T14:29:24.703416Z",
          "start_time": "2022-12-10T14:29:24.688485Z"
        },
        "id": "e152f6d6"
      },
      "source": [
        "## Домашнє завдання 6: Статистичні тести"
      ]
    },
    {
      "cell_type": "code",
      "source": [
        "from google.colab import drive\n",
        "drive.mount('/content/drive')"
      ],
      "metadata": {
        "colab": {
          "base_uri": "https://localhost:8080/"
        },
        "id": "XcmQmqDNjLCB",
        "outputId": "88940706-dbef-4730-b59c-8a9f99a404d1"
      },
      "id": "XcmQmqDNjLCB",
      "execution_count": 1,
      "outputs": [
        {
          "output_type": "stream",
          "name": "stdout",
          "text": [
            "Mounted at /content/drive\n"
          ]
        }
      ]
    },
    {
      "cell_type": "code",
      "source": [
        "import pandas as pd\n",
        "import numpy as np\n",
        "import random"
      ],
      "metadata": {
        "id": "6e3F4qHUjQyL"
      },
      "id": "6e3F4qHUjQyL",
      "execution_count": 2,
      "outputs": []
    },
    {
      "cell_type": "code",
      "source": [
        "!pip install statsmodels"
      ],
      "metadata": {
        "colab": {
          "base_uri": "https://localhost:8080/"
        },
        "id": "Sf8nob2ejpmt",
        "outputId": "e7faa9be-61e5-493b-e6b8-f46fad27a9ff"
      },
      "id": "Sf8nob2ejpmt",
      "execution_count": 3,
      "outputs": [
        {
          "output_type": "stream",
          "name": "stdout",
          "text": [
            "Requirement already satisfied: statsmodels in /usr/local/lib/python3.10/dist-packages (0.14.2)\n",
            "Requirement already satisfied: numpy>=1.22.3 in /usr/local/lib/python3.10/dist-packages (from statsmodels) (1.25.2)\n",
            "Requirement already satisfied: scipy!=1.9.2,>=1.8 in /usr/local/lib/python3.10/dist-packages (from statsmodels) (1.11.4)\n",
            "Requirement already satisfied: pandas!=2.1.0,>=1.4 in /usr/local/lib/python3.10/dist-packages (from statsmodels) (2.0.3)\n",
            "Requirement already satisfied: patsy>=0.5.6 in /usr/local/lib/python3.10/dist-packages (from statsmodels) (0.5.6)\n",
            "Requirement already satisfied: packaging>=21.3 in /usr/local/lib/python3.10/dist-packages (from statsmodels) (24.1)\n",
            "Requirement already satisfied: python-dateutil>=2.8.2 in /usr/local/lib/python3.10/dist-packages (from pandas!=2.1.0,>=1.4->statsmodels) (2.8.2)\n",
            "Requirement already satisfied: pytz>=2020.1 in /usr/local/lib/python3.10/dist-packages (from pandas!=2.1.0,>=1.4->statsmodels) (2023.4)\n",
            "Requirement already satisfied: tzdata>=2022.1 in /usr/local/lib/python3.10/dist-packages (from pandas!=2.1.0,>=1.4->statsmodels) (2024.1)\n",
            "Requirement already satisfied: six in /usr/local/lib/python3.10/dist-packages (from patsy>=0.5.6->statsmodels) (1.16.0)\n"
          ]
        }
      ]
    },
    {
      "cell_type": "code",
      "source": [
        "from statsmodels.stats.weightstats import ztest"
      ],
      "metadata": {
        "id": "VncV3UpZjzIW"
      },
      "id": "VncV3UpZjzIW",
      "execution_count": 4,
      "outputs": []
    },
    {
      "cell_type": "code",
      "source": [
        "import math"
      ],
      "metadata": {
        "id": "Y7eRQWnBArE7"
      },
      "id": "Y7eRQWnBArE7",
      "execution_count": 38,
      "outputs": []
    },
    {
      "cell_type": "markdown",
      "id": "cd404683",
      "metadata": {
        "id": "cd404683"
      },
      "source": [
        "0. Зчитайте дані з `data.csv` та запишіть значення колонки data у форматі np.ndarray в змінну data. Ми будемо далі працювати з цією змінною."
      ]
    },
    {
      "cell_type": "code",
      "source": [
        "df = pd.read_csv('../content/drive/MyDrive/data_statistics/data.csv')"
      ],
      "metadata": {
        "id": "a8M1Xqa3hInl"
      },
      "id": "a8M1Xqa3hInl",
      "execution_count": 5,
      "outputs": []
    },
    {
      "cell_type": "code",
      "source": [
        "data = df.data.to_numpy()"
      ],
      "metadata": {
        "id": "dLM_62FOqNuu"
      },
      "id": "dLM_62FOqNuu",
      "execution_count": 6,
      "outputs": []
    },
    {
      "cell_type": "code",
      "source": [
        "data"
      ],
      "metadata": {
        "colab": {
          "base_uri": "https://localhost:8080/"
        },
        "id": "gywyiaO2rASq",
        "outputId": "99a25736-464b-4d19-cf84-e856b2687549"
      },
      "id": "gywyiaO2rASq",
      "execution_count": 7,
      "outputs": [
        {
          "output_type": "execute_result",
          "data": {
            "text/plain": [
              "array([17.49945292, 19.66239904,  7.18282343, 29.84162485,  9.23938649,\n",
              "       14.94951581, 23.0172885 , 12.52827148, 13.65228669, 14.54595431,\n",
              "       23.30872427, 33.75324808, 20.24923636, 13.29244733, 23.23434992,\n",
              "       16.4230418 , 19.88521702, 27.05000732, 15.5127743 , 20.05415151,\n",
              "       14.73135264, 19.06139498, 21.53942271, 14.06732571, 17.9670682 ,\n",
              "       18.58289581, 16.17406993, 12.87432628, 11.47269664, 19.07902883,\n",
              "       18.38565824, 33.38820073,  5.39139454, 20.67635903, 22.22266722,\n",
              "       28.15780318, 23.01114324, 14.93471778, 20.00005857, 23.25411543,\n",
              "       18.11895082, 24.62607043,  8.79145607, 30.387108  , 28.80606806,\n",
              "       17.98593597, 23.66804468, 20.28782355, 15.02518827, 20.52626131,\n",
              "       26.00219532, 17.71344489, 17.74598346, 19.55317542, 22.60097798,\n",
              "       27.67027538, 16.19192417, 23.05037746, 21.29669604,  8.84832568,\n",
              "       17.48410111, 19.20602661, 19.76257856, 21.9560206 ,  7.75806171,\n",
              "       20.27753314, 15.93394654, 11.36336584, 23.14577858, 24.41167746,\n",
              "       16.08049839, 25.05473769, 17.71090111, 20.39893405, 13.40756632,\n",
              "       29.50692234,  4.04330326, 19.45128426, 24.17071763,  7.79920072,\n",
              "       18.86318441, 19.53668801, 24.94821803, 27.48927752, 17.57664638,\n",
              "       11.692888  , 28.20341254, 27.3073138 , 17.22796791, 22.10533096,\n",
              "       22.2911974 , 23.39765265, 21.22524787, 28.44017745,  9.57224297,\n",
              "       26.24494372, 22.28283182, 18.69718839, 27.04118899,  5.93838085])"
            ]
          },
          "metadata": {},
          "execution_count": 7
        }
      ]
    },
    {
      "cell_type": "markdown",
      "id": "3d06cbbf",
      "metadata": {
        "id": "3d06cbbf"
      },
      "source": [
        "Запустіть код нижче. Для коректної робити всіх подальших методів дані мають бути у вигляді одновимірного вектора, тобто мати розмір (100,)."
      ]
    },
    {
      "cell_type": "code",
      "source": [
        "data.shape"
      ],
      "metadata": {
        "id": "Rc_cM9TfhJYI",
        "colab": {
          "base_uri": "https://localhost:8080/"
        },
        "outputId": "838be4c1-39b8-4370-d5fb-5c197da982b8"
      },
      "id": "Rc_cM9TfhJYI",
      "execution_count": 8,
      "outputs": [
        {
          "output_type": "execute_result",
          "data": {
            "text/plain": [
              "(100,)"
            ]
          },
          "metadata": {},
          "execution_count": 8
        }
      ]
    },
    {
      "cell_type": "markdown",
      "id": "abdcef5d",
      "metadata": {
        "id": "abdcef5d"
      },
      "source": [
        "1. Зчитані дані - це сума покупок в доларах наших покупців на сайті протягом липня 2022 року.\n",
        "\n",
        "До цього місяця, ми мали продажі в середньому на чек $20. Чи вийшло у нас статистично значущо **підвищити** середній чек за останній місяць?\n",
        "\n",
        "Оберіть статистичний тест (z-test чи t-test). Виведіть p-значення статистичного тесту та зробіть висновок, чи ми маємо зараз статистично значущу різницю у розмірі середнього чеку.\n",
        "\n",
        "**Підказка**: тут тест буде одновибірковий."
      ]
    },
    {
      "cell_type": "markdown",
      "source": [
        "H0 = mu = 20;\n",
        "H1 = mu > 20;\n",
        "x = 19.37755319670441;\n",
        "stdv = 6.25356123240434;\n",
        "alpha = 0.05;\n",
        "n = 100;"
      ],
      "metadata": {
        "id": "kVGN2Meu9cVa"
      },
      "id": "kVGN2Meu9cVa"
    },
    {
      "cell_type": "code",
      "source": [
        "1/len(data) * sum(data)"
      ],
      "metadata": {
        "colab": {
          "base_uri": "https://localhost:8080/"
        },
        "id": "zto06yNtarrF",
        "outputId": "6f477de9-bb44-4737-f074-b5920dd0ec50"
      },
      "id": "zto06yNtarrF",
      "execution_count": 11,
      "outputs": [
        {
          "output_type": "execute_result",
          "data": {
            "text/plain": [
              "19.37755319670441"
            ]
          },
          "metadata": {},
          "execution_count": 11
        }
      ]
    },
    {
      "cell_type": "code",
      "source": [
        "np.mean(data)"
      ],
      "metadata": {
        "colab": {
          "base_uri": "https://localhost:8080/"
        },
        "id": "m1zgxRxfbVSW",
        "outputId": "1b639e97-e261-41fc-bea6-ddc160c38fa2"
      },
      "id": "m1zgxRxfbVSW",
      "execution_count": 12,
      "outputs": [
        {
          "output_type": "execute_result",
          "data": {
            "text/plain": [
              "19.37755319670441"
            ]
          },
          "metadata": {},
          "execution_count": 12
        }
      ]
    },
    {
      "cell_type": "code",
      "source": [
        "np.std(data, ddof=1)"
      ],
      "metadata": {
        "colab": {
          "base_uri": "https://localhost:8080/"
        },
        "id": "SauMm2zCbPJ5",
        "outputId": "7e483ff1-aeef-4212-d939-d0bfd5e0a03b"
      },
      "id": "SauMm2zCbPJ5",
      "execution_count": 13,
      "outputs": [
        {
          "output_type": "execute_result",
          "data": {
            "text/plain": [
              "6.25356123240434"
            ]
          },
          "metadata": {},
          "execution_count": 13
        }
      ]
    },
    {
      "cell_type": "code",
      "source": [
        "mean_bill = np.mean(data)\n",
        "sd_bill = np.std(data, ddof=1)/math.sqrt(100)\n",
        "alpha = 0.05\n",
        "null_bill = 20"
      ],
      "metadata": {
        "id": "Fknyk5OvO-Y0"
      },
      "id": "Fknyk5OvO-Y0",
      "execution_count": 39,
      "outputs": []
    },
    {
      "cell_type": "code",
      "source": [
        "ztest_Score, p_value = ztest(data, value = null_bill, alternative='larger')"
      ],
      "metadata": {
        "id": "hxUvbWHiOzyF"
      },
      "id": "hxUvbWHiOzyF",
      "execution_count": 40,
      "outputs": []
    },
    {
      "cell_type": "code",
      "source": [
        "ztest_Score, p_value"
      ],
      "metadata": {
        "colab": {
          "base_uri": "https://localhost:8080/"
        },
        "id": "AaJQTE_dScg5",
        "outputId": "4f74e555-3667-4e8d-c2d8-5d5b8b048b29"
      },
      "id": "AaJQTE_dScg5",
      "execution_count": 41,
      "outputs": [
        {
          "output_type": "execute_result",
          "data": {
            "text/plain": [
              "(-0.9953477389335053, 0.8402164165464012)"
            ]
          },
          "metadata": {},
          "execution_count": 41
        }
      ]
    },
    {
      "cell_type": "code",
      "source": [
        "if(p_value <  alpha):\n",
        "    print(\"Відхилити Н0.\")\n",
        "else:\n",
        "    print(\"Н0 не може бути відхилена.\")"
      ],
      "metadata": {
        "colab": {
          "base_uri": "https://localhost:8080/"
        },
        "id": "rDJvfwI8Sy_c",
        "outputId": "902e9cec-de40-426a-839f-fb143abd4804"
      },
      "id": "rDJvfwI8Sy_c",
      "execution_count": 42,
      "outputs": [
        {
          "output_type": "stream",
          "name": "stdout",
          "text": [
            "Н0 не може бути відхилена.\n"
          ]
        }
      ]
    },
    {
      "cell_type": "markdown",
      "source": [
        "За результатами тесту ми не можемо сказати, що різниця статистично значуща і в нас немає підстав відкидати нульову гіпотезу."
      ],
      "metadata": {
        "id": "iGl39UKmC13F"
      },
      "id": "iGl39UKmC13F"
    },
    {
      "cell_type": "markdown",
      "id": "05219e41",
      "metadata": {
        "ExecuteTime": {
          "end_time": "2022-12-10T14:52:46.140204Z",
          "start_time": "2022-12-10T14:52:46.112068Z"
        },
        "id": "05219e41"
      },
      "source": [
        "2. Пройшов час, і ми зібрали дані про продажі за серпень 2022 року, які зберігли у файл `data_2.csv`. Продажів було дещо більше, але чи змінився стат. значущо середній чек порівняно з липнем 2022? Перевірте це використовуючи ztest.\n",
        "\n",
        "  Виведіть p-значення статистичного тесту та зробіть висновок, чи ми маємо зараз статистично значущу різницю у розмірі середнього чека між двома місяцями.\n",
        "\n",
        "  **Підказка**: треба провести двовибірковий ztest з Н0 - що середні значення в липні та серпні 2022 року - однакові. Для кращого розуміння ситуації, можливо вам буде цікаво переглянути, які середні показники чеку були в кожен з місяців. Порівняйте свій висновок з простого спостереження середніх значень і висновок статистичного тесту. Чи вони збігаються?"
      ]
    },
    {
      "cell_type": "markdown",
      "source": [
        "H0 mean data = mean data1\n",
        "H1 mean data != mean data1"
      ],
      "metadata": {
        "id": "QkJ0FRcwT3EZ"
      },
      "id": "QkJ0FRcwT3EZ"
    },
    {
      "cell_type": "code",
      "source": [
        "df1 = pd.read_csv('../content/drive/MyDrive/data_statistics/data_2.csv')"
      ],
      "metadata": {
        "id": "hbs7LPI4hP-6"
      },
      "id": "hbs7LPI4hP-6",
      "execution_count": 22,
      "outputs": []
    },
    {
      "cell_type": "code",
      "source": [
        "data1 = df1.data.to_numpy()"
      ],
      "metadata": {
        "id": "8wVmReS8yXN-"
      },
      "id": "8wVmReS8yXN-",
      "execution_count": 23,
      "outputs": []
    },
    {
      "cell_type": "code",
      "source": [
        "data1"
      ],
      "metadata": {
        "colab": {
          "base_uri": "https://localhost:8080/"
        },
        "id": "ZRPHKmtdykpW",
        "outputId": "4387ec3b-1704-4f83-9083-c4df352a2c1f"
      },
      "id": "ZRPHKmtdykpW",
      "execution_count": 24,
      "outputs": [
        {
          "output_type": "execute_result",
          "data": {
            "text/plain": [
              "array([ 5.94015879, 29.18934391, 11.38350244, 15.43409823, 19.89675209,\n",
              "       26.35462741, 21.71541042, 30.07928738, 18.559706  ,  8.98262482,\n",
              "       21.75095478, 21.99252789, 16.37737276, 18.36827303, 15.96373794,\n",
              "       30.98838431, 16.13256609, 11.01409438, 21.96585507,  9.46690988,\n",
              "       23.42563685, 21.53704461, 13.26051457, 17.14026368, 15.42554536,\n",
              "       30.6793921 , 21.26136766, 12.18702858, 10.69691295, 21.57137244,\n",
              "       19.44915472, 15.29409103, 21.20725805, 18.5615031 , 27.27465429,\n",
              "       22.71259245, 19.41187696, 21.98647106, 13.33332309, 26.42199496,\n",
              "       23.87611696, 16.09133552, 20.95972522, 15.47445472, 32.79323825,\n",
              "       16.42470817, 23.61838166, 22.92533987, 14.82328184, 19.14936908,\n",
              "       17.61708292, 20.76144078, 20.88864519, 22.17749704, 24.44099555,\n",
              "       17.42064342, 19.01311241, 17.11869915, 14.66455092,  9.59578906,\n",
              "       23.93038503, 18.80003123, 16.62880551,  9.30221669, 10.74561613,\n",
              "        5.00093505, 18.64262674, 23.06962246, 23.27815123, 19.56141603,\n",
              "       14.07482487, 19.67979235, 20.42825975, 23.21152701, 25.38472731,\n",
              "       18.32183161, 18.40471839, 23.90049615, 22.82595361, 17.8883959 ,\n",
              "        7.69030253, 15.65278307, 25.46426689, 19.88110497, 26.00681157,\n",
              "       18.6329991 , 20.01875783, 24.54669482, 23.53397824, 22.66170117,\n",
              "       26.54318517, 28.49067512, 28.26177047,  8.79769859, 15.74868453,\n",
              "       17.5587485 , 18.25251678, 12.41697717, 28.65554398, 13.35890789,\n",
              "       18.55112891,  6.06913755, 16.95560427, 17.22003895, 15.26047544,\n",
              "       24.40168713, 33.85257121, 12.79623496, 15.75786194, 30.56181596,\n",
              "       23.10622576, 17.12450518, 11.93884885, 25.61775034, 21.78617867,\n",
              "       31.3049159 , 15.82267598, 19.2913942 , 19.03674666, 18.8478986 ])"
            ]
          },
          "metadata": {},
          "execution_count": 24
        }
      ]
    },
    {
      "cell_type": "code",
      "source": [
        "display (np.mean(data1), np.mean(data))"
      ],
      "metadata": {
        "colab": {
          "base_uri": "https://localhost:8080/",
          "height": 53
        },
        "id": "UaG7r0pEyl25",
        "outputId": "def1a9e2-0a6c-42a7-de2f-a6247003b41a"
      },
      "id": "UaG7r0pEyl25",
      "execution_count": 44,
      "outputs": [
        {
          "output_type": "display_data",
          "data": {
            "text/plain": [
              "19.37322276512519"
            ]
          },
          "metadata": {}
        },
        {
          "output_type": "display_data",
          "data": {
            "text/plain": [
              "19.37755319670441"
            ]
          },
          "metadata": {}
        }
      ]
    },
    {
      "cell_type": "code",
      "source": [
        "ztest(data, data1, value=0)"
      ],
      "metadata": {
        "colab": {
          "base_uri": "https://localhost:8080/"
        },
        "id": "z0e0b8bvyrJI",
        "outputId": "7e13427b-a406-4a46-bee3-2049d93e8976"
      },
      "id": "z0e0b8bvyrJI",
      "execution_count": 45,
      "outputs": [
        {
          "output_type": "execute_result",
          "data": {
            "text/plain": [
              "(0.005246673456808504, 0.9958137794593356)"
            ]
          },
          "metadata": {},
          "execution_count": 45
        }
      ]
    },
    {
      "cell_type": "markdown",
      "source": [
        "Статистично значущої різниці між середніми чеками у липні і в серпні немає. За результатами тесту, як і за результатами простого стостереження, ми не можемо відкинути нульову гіпотезу. Це означає, що середні значення в липні і в серпні одинакові. Насправді, різниця між ними є, але не статистично значуща."
      ],
      "metadata": {
        "id": "cryAbzo6Eh4b"
      },
      "id": "cryAbzo6Eh4b"
    }
  ],
  "metadata": {
    "hide_input": false,
    "kernelspec": {
      "display_name": "Python 3 (ipykernel)",
      "language": "python",
      "name": "python3"
    },
    "language_info": {
      "codemirror_mode": {
        "name": "ipython",
        "version": 3
      },
      "file_extension": ".py",
      "mimetype": "text/x-python",
      "name": "python",
      "nbconvert_exporter": "python",
      "pygments_lexer": "ipython3",
      "version": "3.11.3"
    },
    "toc": {
      "base_numbering": 1,
      "nav_menu": {},
      "number_sections": true,
      "sideBar": true,
      "skip_h1_title": false,
      "title_cell": "Table of Contents",
      "title_sidebar": "Contents",
      "toc_cell": false,
      "toc_position": {},
      "toc_section_display": true,
      "toc_window_display": false
    },
    "varInspector": {
      "cols": {
        "lenName": 16,
        "lenType": 16,
        "lenVar": 40
      },
      "kernels_config": {
        "python": {
          "delete_cmd_postfix": "",
          "delete_cmd_prefix": "del ",
          "library": "var_list.py",
          "varRefreshCmd": "print(var_dic_list())"
        },
        "r": {
          "delete_cmd_postfix": ") ",
          "delete_cmd_prefix": "rm(",
          "library": "var_list.r",
          "varRefreshCmd": "cat(var_dic_list()) "
        }
      },
      "types_to_exclude": [
        "module",
        "function",
        "builtin_function_or_method",
        "instance",
        "_Feature"
      ],
      "window_display": false
    },
    "colab": {
      "provenance": [],
      "include_colab_link": true
    }
  },
  "nbformat": 4,
  "nbformat_minor": 5
}